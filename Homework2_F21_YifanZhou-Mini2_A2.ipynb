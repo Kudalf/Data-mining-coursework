{
 "cells": [
  {
   "cell_type": "markdown",
   "id": "337befe0",
   "metadata": {},
   "source": [
    "# Homework 2 - 95-791 Data Mining (Fall 2021) \n",
    "## Name: Yifan Zhou \n",
    "#### Due: Friday, November 12th, before 1PM (EST)\n"
   ]
  },
  {
   "cell_type": "markdown",
   "id": "4d2783fe",
   "metadata": {},
   "source": [
    "### Changing the author field and file name.\n",
    "\n",
    " (a) Change the `name:` field on the Jupyter document from Your Name Here to your own name.\n",
    "\n",
    " (b) Rename this file to \"Homework2_F21_YourHameHere.ipynb\", where YourNameHere is changed to your own name.\n",
    "\n",
    "\n",
    "### Installing and loading packages\n",
    "\n",
    "Before you begin this Homework make sure you have installed all the required libraries. Load the libraries as indicated below."
   ]
  },
  {
   "cell_type": "markdown",
   "id": "6ece2b0a",
   "metadata": {},
   "source": [
    "You only need to install libraries once.  Once they're installed, you may use them by **importing** the libraries using the `import` command.  For today's lab, you'll want to run the following code\n"
   ]
  },
  {
   "cell_type": "code",
   "execution_count": 7,
   "id": "48347bfd",
   "metadata": {},
   "outputs": [],
   "source": [
    "import numpy as np\n",
    "import pandas as pd\n",
    "import seaborn as sns\n",
    "from matplotlib import pyplot as plt\n",
    "import plotly.express as px\n",
    "from sklearn.metrics import mean_squared_error\n",
    "from sklearn.linear_model import LinearRegression\n",
    "from sklearn.preprocessing import PolynomialFeatures\n",
    "from sklearn.model_selection import train_test_split, LeaveOneOut, KFold, cross_val_score\n",
    "from sklearn.linear_model import Ridge, RidgeCV, Lasso, LassoCV\n",
    "from sklearn.feature_selection import SequentialFeatureSelector\n",
    "from sklearn.neighbors import KNeighborsClassifier\n",
    "from sklearn import metrics\n",
    "from sklearn.metrics import confusion_matrix, ConfusionMatrixDisplay, classification_report\n",
    "from sklearn import preprocessing\n",
    "from sklearn import neighbors\n",
    "from sklearn.metrics import r2_score \n",
    "import time\n",
    "# set warnings off\n",
    "import warnings\n",
    "warnings.filterwarnings('ignore')\n",
    "from statistics import mean\n",
    "\n",
    "%matplotlib inline\n",
    "plt.style.use('seaborn-white')"
   ]
  },
  {
   "cell_type": "markdown",
   "id": "b5e0693c",
   "metadata": {},
   "source": [
    "For this problem we’ll be working with two years of the bicycle sharing systems for New York City (Citibike). The dataset contains daily bike trip counts, along with daily measurements on environmental and seasonal information that may affect the bikesharing.\n",
    "\n",
    "Here’s information on what the variables mean.\n",
    "\n",
    "- trips - daily total number of bike trips taken (all stations) - target variable.\n",
    "- precipitation - daily inches of rain\n",
    "- snow_depth - daily inches of snow. Accoding to NOAA \"Determine the depth of the new and old snow remaining on the ground at observation time\".\n",
    "- snowfall - according to NOAA \"Measure and record the snowfall (snow, ice pellets ) since the previous snowfall observation (24 hours).\"\n",
    "- max_temperature - daily maximum temperature in Farenheit (highest temperature reached)\n",
    "- min_temperature - daily minimum temperature in Farenheit (lowest temperature reached)\n",
    "- average_wind_speed - measured hourly in mph and averaged for daily value\n",
    "- year \n",
    "- holiday\n",
    "    - True\n",
    "    - False\n",
    "- stations in service - docking stations working per day\n",
    "- weekday\n",
    "    - True\n",
    "    - False\n",
    "- weekday_non_holiday\n",
    "    - True\n",
    "    - False\n",
    "\n",
    "More details on snow measurements [here](https://www.weather.gov/gsp/snow)\n",
    "\n",
    "---"
   ]
  },
  {
   "cell_type": "markdown",
   "id": "f0197973",
   "metadata": {},
   "source": [
    "### Question 1. Data Processing [3 pts]\n",
    "Let's start by loading and pre-processing our dataset."
   ]
  },
  {
   "cell_type": "markdown",
   "id": "1741a816",
   "metadata": {},
   "source": [
    "**1)a) Load the `bikes` dataset into a dataframe called `bikes`. Check that there are no missing values in your dataset. If they are, take care of them appropriately. Print the first five rows.** [0 pts]"
   ]
  },
  {
   "cell_type": "code",
   "execution_count": 28,
   "id": "52b43d66",
   "metadata": {},
   "outputs": [
    {
     "name": "stdout",
     "output_type": "stream",
     "text": [
      "trips                  0\n",
      "precipitation          0\n",
      "snow_depth             0\n",
      "snowfall               0\n",
      "max_temperature        0\n",
      "min_temperature        0\n",
      "average_wind_speed     3\n",
      "year                   0\n",
      "season                 0\n",
      "month                  0\n",
      "holiday                0\n",
      "stations_in_service    0\n",
      "weekday                0\n",
      "weekday_non_holiday    0\n",
      "dtype: int64\n",
      "Number of Missing Values: 3\n",
      "Number of Missing Values: 0\n"
     ]
    },
    {
     "data": {
      "text/html": [
       "<div>\n",
       "<style scoped>\n",
       "    .dataframe tbody tr th:only-of-type {\n",
       "        vertical-align: middle;\n",
       "    }\n",
       "\n",
       "    .dataframe tbody tr th {\n",
       "        vertical-align: top;\n",
       "    }\n",
       "\n",
       "    .dataframe thead th {\n",
       "        text-align: right;\n",
       "    }\n",
       "</style>\n",
       "<table border=\"1\" class=\"dataframe\">\n",
       "  <thead>\n",
       "    <tr style=\"text-align: right;\">\n",
       "      <th></th>\n",
       "      <th>trips</th>\n",
       "      <th>precipitation</th>\n",
       "      <th>snow_depth</th>\n",
       "      <th>snowfall</th>\n",
       "      <th>max_temperature</th>\n",
       "      <th>min_temperature</th>\n",
       "      <th>year</th>\n",
       "      <th>season</th>\n",
       "      <th>month</th>\n",
       "      <th>holiday</th>\n",
       "      <th>stations_in_service</th>\n",
       "      <th>weekday</th>\n",
       "      <th>weekday_non_holiday</th>\n",
       "    </tr>\n",
       "  </thead>\n",
       "  <tbody>\n",
       "    <tr>\n",
       "      <th>0</th>\n",
       "      <td>20138</td>\n",
       "      <td>0.649606</td>\n",
       "      <td>0.0</td>\n",
       "      <td>0.0</td>\n",
       "      <td>75.92</td>\n",
       "      <td>66.02</td>\n",
       "      <td>2013</td>\n",
       "      <td>summer</td>\n",
       "      <td>8</td>\n",
       "      <td>False</td>\n",
       "      <td>329</td>\n",
       "      <td>True</td>\n",
       "      <td>True</td>\n",
       "    </tr>\n",
       "    <tr>\n",
       "      <th>1</th>\n",
       "      <td>35792</td>\n",
       "      <td>0.000000</td>\n",
       "      <td>0.0</td>\n",
       "      <td>0.0</td>\n",
       "      <td>82.94</td>\n",
       "      <td>66.92</td>\n",
       "      <td>2013</td>\n",
       "      <td>summer</td>\n",
       "      <td>8</td>\n",
       "      <td>False</td>\n",
       "      <td>329</td>\n",
       "      <td>True</td>\n",
       "      <td>True</td>\n",
       "    </tr>\n",
       "    <tr>\n",
       "      <th>2</th>\n",
       "      <td>29540</td>\n",
       "      <td>0.059055</td>\n",
       "      <td>0.0</td>\n",
       "      <td>0.0</td>\n",
       "      <td>78.08</td>\n",
       "      <td>68.00</td>\n",
       "      <td>2013</td>\n",
       "      <td>summer</td>\n",
       "      <td>8</td>\n",
       "      <td>False</td>\n",
       "      <td>329</td>\n",
       "      <td>False</td>\n",
       "      <td>False</td>\n",
       "    </tr>\n",
       "    <tr>\n",
       "      <th>3</th>\n",
       "      <td>35253</td>\n",
       "      <td>0.000000</td>\n",
       "      <td>0.0</td>\n",
       "      <td>0.0</td>\n",
       "      <td>80.06</td>\n",
       "      <td>66.02</td>\n",
       "      <td>2013</td>\n",
       "      <td>summer</td>\n",
       "      <td>8</td>\n",
       "      <td>False</td>\n",
       "      <td>329</td>\n",
       "      <td>False</td>\n",
       "      <td>False</td>\n",
       "    </tr>\n",
       "    <tr>\n",
       "      <th>4</th>\n",
       "      <td>36776</td>\n",
       "      <td>0.000000</td>\n",
       "      <td>0.0</td>\n",
       "      <td>0.0</td>\n",
       "      <td>78.08</td>\n",
       "      <td>62.06</td>\n",
       "      <td>2013</td>\n",
       "      <td>summer</td>\n",
       "      <td>8</td>\n",
       "      <td>False</td>\n",
       "      <td>329</td>\n",
       "      <td>True</td>\n",
       "      <td>True</td>\n",
       "    </tr>\n",
       "  </tbody>\n",
       "</table>\n",
       "</div>"
      ],
      "text/plain": [
       "   trips  precipitation  snow_depth  snowfall  max_temperature  \\\n",
       "0  20138       0.649606         0.0       0.0            75.92   \n",
       "1  35792       0.000000         0.0       0.0            82.94   \n",
       "2  29540       0.059055         0.0       0.0            78.08   \n",
       "3  35253       0.000000         0.0       0.0            80.06   \n",
       "4  36776       0.000000         0.0       0.0            78.08   \n",
       "\n",
       "   min_temperature  year  season  month  holiday  stations_in_service  \\\n",
       "0            66.02  2013  summer      8    False                  329   \n",
       "1            66.92  2013  summer      8    False                  329   \n",
       "2            68.00  2013  summer      8    False                  329   \n",
       "3            66.02  2013  summer      8    False                  329   \n",
       "4            62.06  2013  summer      8    False                  329   \n",
       "\n",
       "   weekday  weekday_non_holiday  \n",
       "0     True                 True  \n",
       "1     True                 True  \n",
       "2    False                False  \n",
       "3    False                False  \n",
       "4     True                 True  "
      ]
     },
     "execution_count": 28,
     "metadata": {},
     "output_type": "execute_result"
    }
   ],
   "source": [
    "bikes = pd.read_csv(\"daily_citi_bike_trip_counts_and_weather.csv\")\n",
    "print(bikes.isnull().sum(axis = 0)) \n",
    "print(\"Number of Missing Values: %1.0f\"%bikes.isnull().sum().sum()) # check if there is null\n",
    "bikes = bikes.dropna(axis=1) # drop nas\n",
    "print(\"Number of Missing Values: %1.0f\"%bikes.isnull().sum().sum()) # check again. no nas \n",
    "bikes.head(5)"
   ]
  },
  {
   "cell_type": "markdown",
   "id": "9b25f5fd",
   "metadata": {},
   "source": [
    "**1)b) We need to encode our qualitative predictors before we proceed into any modeling. Predictors `holiday`, `weekday`,`weekday_non_holiday` are type boolean, therefore you must cast them to be numerical. For predictor `season` you will either have to create [dummy variables](https://pandas.pydata.org/docs/reference/api/pandas.get_dummies.html) and append them to your dataframe or map each season to a different number (spring:1,summer:2,fall:3,winter:4). Print the first five rows of your dataset.** [2 pts]"
   ]
  },
  {
   "cell_type": "code",
   "execution_count": 29,
   "id": "06982959",
   "metadata": {},
   "outputs": [
    {
     "data": {
      "text/html": [
       "<div>\n",
       "<style scoped>\n",
       "    .dataframe tbody tr th:only-of-type {\n",
       "        vertical-align: middle;\n",
       "    }\n",
       "\n",
       "    .dataframe tbody tr th {\n",
       "        vertical-align: top;\n",
       "    }\n",
       "\n",
       "    .dataframe thead th {\n",
       "        text-align: right;\n",
       "    }\n",
       "</style>\n",
       "<table border=\"1\" class=\"dataframe\">\n",
       "  <thead>\n",
       "    <tr style=\"text-align: right;\">\n",
       "      <th></th>\n",
       "      <th>trips</th>\n",
       "      <th>precipitation</th>\n",
       "      <th>snow_depth</th>\n",
       "      <th>snowfall</th>\n",
       "      <th>max_temperature</th>\n",
       "      <th>min_temperature</th>\n",
       "      <th>year</th>\n",
       "      <th>month</th>\n",
       "      <th>holiday</th>\n",
       "      <th>stations_in_service</th>\n",
       "      <th>weekday</th>\n",
       "      <th>weekday_non_holiday</th>\n",
       "      <th>spring</th>\n",
       "      <th>summer</th>\n",
       "      <th>winter</th>\n",
       "    </tr>\n",
       "  </thead>\n",
       "  <tbody>\n",
       "    <tr>\n",
       "      <th>0</th>\n",
       "      <td>20138</td>\n",
       "      <td>0.649606</td>\n",
       "      <td>0.0</td>\n",
       "      <td>0.0</td>\n",
       "      <td>75.92</td>\n",
       "      <td>66.02</td>\n",
       "      <td>2013</td>\n",
       "      <td>8</td>\n",
       "      <td>0</td>\n",
       "      <td>329</td>\n",
       "      <td>1</td>\n",
       "      <td>1</td>\n",
       "      <td>0</td>\n",
       "      <td>1</td>\n",
       "      <td>0</td>\n",
       "    </tr>\n",
       "    <tr>\n",
       "      <th>1</th>\n",
       "      <td>35792</td>\n",
       "      <td>0.000000</td>\n",
       "      <td>0.0</td>\n",
       "      <td>0.0</td>\n",
       "      <td>82.94</td>\n",
       "      <td>66.92</td>\n",
       "      <td>2013</td>\n",
       "      <td>8</td>\n",
       "      <td>0</td>\n",
       "      <td>329</td>\n",
       "      <td>1</td>\n",
       "      <td>1</td>\n",
       "      <td>0</td>\n",
       "      <td>1</td>\n",
       "      <td>0</td>\n",
       "    </tr>\n",
       "    <tr>\n",
       "      <th>2</th>\n",
       "      <td>29540</td>\n",
       "      <td>0.059055</td>\n",
       "      <td>0.0</td>\n",
       "      <td>0.0</td>\n",
       "      <td>78.08</td>\n",
       "      <td>68.00</td>\n",
       "      <td>2013</td>\n",
       "      <td>8</td>\n",
       "      <td>0</td>\n",
       "      <td>329</td>\n",
       "      <td>0</td>\n",
       "      <td>0</td>\n",
       "      <td>0</td>\n",
       "      <td>1</td>\n",
       "      <td>0</td>\n",
       "    </tr>\n",
       "    <tr>\n",
       "      <th>3</th>\n",
       "      <td>35253</td>\n",
       "      <td>0.000000</td>\n",
       "      <td>0.0</td>\n",
       "      <td>0.0</td>\n",
       "      <td>80.06</td>\n",
       "      <td>66.02</td>\n",
       "      <td>2013</td>\n",
       "      <td>8</td>\n",
       "      <td>0</td>\n",
       "      <td>329</td>\n",
       "      <td>0</td>\n",
       "      <td>0</td>\n",
       "      <td>0</td>\n",
       "      <td>1</td>\n",
       "      <td>0</td>\n",
       "    </tr>\n",
       "    <tr>\n",
       "      <th>4</th>\n",
       "      <td>36776</td>\n",
       "      <td>0.000000</td>\n",
       "      <td>0.0</td>\n",
       "      <td>0.0</td>\n",
       "      <td>78.08</td>\n",
       "      <td>62.06</td>\n",
       "      <td>2013</td>\n",
       "      <td>8</td>\n",
       "      <td>0</td>\n",
       "      <td>329</td>\n",
       "      <td>1</td>\n",
       "      <td>1</td>\n",
       "      <td>0</td>\n",
       "      <td>1</td>\n",
       "      <td>0</td>\n",
       "    </tr>\n",
       "  </tbody>\n",
       "</table>\n",
       "</div>"
      ],
      "text/plain": [
       "   trips  precipitation  snow_depth  snowfall  max_temperature  \\\n",
       "0  20138       0.649606         0.0       0.0            75.92   \n",
       "1  35792       0.000000         0.0       0.0            82.94   \n",
       "2  29540       0.059055         0.0       0.0            78.08   \n",
       "3  35253       0.000000         0.0       0.0            80.06   \n",
       "4  36776       0.000000         0.0       0.0            78.08   \n",
       "\n",
       "   min_temperature  year  month  holiday  stations_in_service  weekday  \\\n",
       "0            66.02  2013      8        0                  329        1   \n",
       "1            66.92  2013      8        0                  329        1   \n",
       "2            68.00  2013      8        0                  329        0   \n",
       "3            66.02  2013      8        0                  329        0   \n",
       "4            62.06  2013      8        0                  329        1   \n",
       "\n",
       "   weekday_non_holiday  spring  summer  winter  \n",
       "0                    1       0       1       0  \n",
       "1                    1       0       1       0  \n",
       "2                    0       0       1       0  \n",
       "3                    0       0       1       0  \n",
       "4                    1       0       1       0  "
      ]
     },
     "execution_count": 29,
     "metadata": {},
     "output_type": "execute_result"
    }
   ],
   "source": [
    "def dummy_transform(x): # transform 0-1 variable\n",
    "    if x == True:\n",
    "        return 1\n",
    "    else:\n",
    "        return 0\n",
    "    \n",
    "bikes_clean = bikes.copy()\n",
    "for col in ['holiday', 'weekday','weekday_non_holiday']:\n",
    "    bikes[col] = bikes[col].apply(dummy_transform) # apply that function\n",
    "bikes_clean = pd.concat([bikes, pd.get_dummies(bikes['season'], drop_first=True)], axis = 1) # transform category variable; drop 1 option to avoid multicollinearity\n",
    "bikes_clean.drop(['season'], axis = 1, inplace = True)\n",
    "bikes_clean.head(5)"
   ]
  },
  {
   "cell_type": "markdown",
   "id": "bab3a3e3",
   "metadata": {},
   "source": [
    "**1)d) Split your dataframe into `X` and `y` dataframe, and then split into `X_train`, `X_test`, `y_train` and `y_test`. Use a 80-20 ratio for the split and a random_state=(your birthday month). Print out your y_test.** [1pts]"
   ]
  },
  {
   "cell_type": "code",
   "execution_count": 30,
   "id": "490938b4",
   "metadata": {},
   "outputs": [
    {
     "name": "stdout",
     "output_type": "stream",
     "text": [
      "The shape of X is(852, 14). The shape of y is(852,)\n",
      "The shape of X_train is(681, 14). The shape of X_test is(171, 14). The shape of y_train is(681,). The shape of y_test is(171,)\n",
      "441    26754\n",
      "298    26930\n",
      "136     7462\n",
      "216    13801\n",
      "482     3675\n",
      "       ...  \n",
      "188     2746\n",
      "606    18075\n",
      "435    30887\n",
      "172    13407\n",
      "396    23575\n",
      "Name: trips, Length: 171, dtype: int64\n"
     ]
    }
   ],
   "source": [
    "# split the x and y\n",
    "X = bikes_clean[bikes_clean.columns.difference(['trips'])]\n",
    "y = bikes_clean['trips']\n",
    "print('The shape of X is{}. The shape of y is{}'.format(X.shape, y.shape))\n",
    "# split training and test\n",
    "X_train, X_test, y_train, y_test = train_test_split(X, y, test_size = 0.2, random_state = 12)\n",
    "print('The shape of X_train is{}. The shape of X_test is{}. The shape of y_train is{}. The shape of y_test is{}'.format(X_train.shape, X_test.shape, y_train.shape, y_test.shape))\n",
    "print(y_test)"
   ]
  },
  {
   "cell_type": "markdown",
   "id": "a0413b6d",
   "metadata": {},
   "source": [
    "---\n",
    "\n",
    "### Question 2 - Linear vs Polynomial Models [10  pts]\n"
   ]
  },
  {
   "cell_type": "markdown",
   "id": "1f2d1c14",
   "metadata": {},
   "source": [
    "**2)a) Use Scikit-learn to train a Linear Regression on your dataset. Print out the train MSE and train $R^2$, the test MSE and test $R^2$. How good of a fit is your Linear Model?**[5 pts]"
   ]
  },
  {
   "cell_type": "code",
   "execution_count": 31,
   "id": "28525d49",
   "metadata": {},
   "outputs": [
    {
     "name": "stdout",
     "output_type": "stream",
     "text": [
      "Train MSE:  16350117.14119731\n",
      "Training R-squared:  0.8889416660005361\n",
      "Test MSE:  17439809.20421631\n",
      "Testing R-squared:  0.865897096489605\n"
     ]
    }
   ],
   "source": [
    "\n",
    "\n",
    "# fit linear model with training\n",
    "lm = LinearRegression(normalize = True)\n",
    "lm.fit(X_train, y_train)\n",
    "y_true = y_train\n",
    "y_pred = lm.predict(X_train)\n",
    "print('Train MSE: ', mean_squared_error(y_true, y_pred))\n",
    "print(\"Training R-squared: \", lm.score(X_train,y_train))\n",
    "y_true = y_test\n",
    "y_pred = lm.predict(X_test)\n",
    "print('Test MSE: ', mean_squared_error(y_true, y_pred))\n",
    "print(\"Testing R-squared: \", lm.score(X_test,y_test))\n",
    "linear_MSE = -mean(cross_val_score(LinearRegression(), X, y, scoring='neg_mean_squared_error', cv=10))"
   ]
  },
  {
   "cell_type": "markdown",
   "id": "278df663",
   "metadata": {},
   "source": [
    "--> The R squared is pretty close to 1. The model is pretty good."
   ]
  },
  {
   "cell_type": "markdown",
   "id": "6e5da2ab",
   "metadata": {},
   "source": [
    "**2)b) Use Scikit-learn to train a Polynomial Regression on your dataset. Iterate through degrees 1 to 6, and for each degree print out the degree, its train MSE and its test MSE. Are any of the MSEs better than a Linear Regression? What can you comment on the results between the Train and Test MSEs?**[5 pts]"
   ]
  },
  {
   "cell_type": "code",
   "execution_count": 32,
   "id": "5c55b735",
   "metadata": {},
   "outputs": [
    {
     "name": "stdout",
     "output_type": "stream",
     "text": [
      "Degree: 1\n",
      "Train MSE:  16350117.141197331\n",
      "Test MSE:  17439809.20421648\n",
      "Degree: 2\n",
      "Train MSE:  6970759.620572002\n",
      "Test MSE:  2.001290570639936e+26\n",
      "Degree: 3\n",
      "Train MSE:  3070882.303964758\n",
      "Test MSE:  4.822581241872023e+22\n",
      "Degree: 4\n",
      "Train MSE:  226931.18130484238\n",
      "Test MSE:  6.344946739999516e+24\n",
      "Degree: 5\n",
      "Train MSE:  2149.42805300387\n",
      "Test MSE:  9.837313957621644e+19\n",
      "Degree: 6\n",
      "Train MSE:  2149.428047577821\n",
      "Test MSE:  1.2649215121860893e+19\n"
     ]
    }
   ],
   "source": [
    "# polynomial fit\n",
    "def train_poly(i):\n",
    "    poly_model = PolynomialFeatures(degree=i)\n",
    "    X_poly_train = poly_model.fit_transform(X_train)\n",
    "    X_poly_test = poly_model.fit_transform(X_test)\n",
    "    \n",
    "    lm_poly = LinearRegression(normalize = True)\n",
    "    lm_poly.fit(X_poly_train, y_train)\n",
    "    y_pred_poly = lm_poly.predict(X_poly_train)\n",
    "\n",
    "    print('Degree:', i)\n",
    "    print('Train MSE: ', mean_squared_error(y_train, y_pred_poly))\n",
    "    y_pred_poly = lm_poly.predict(X_poly_test)\n",
    "    print('Test MSE: ', mean_squared_error(y_test, y_pred_poly))\n",
    "\n",
    "\n",
    "for degree in range(1,7):\n",
    "    train_poly(degree)\n",
    "\n"
   ]
  },
  {
   "cell_type": "markdown",
   "id": "cf2120b4",
   "metadata": {},
   "source": [
    "--> None of the polynomial model's test MSE is smaller than the original model. When the degree gets larger, the training MSE is deceasing. The flexibility increases in a way that the model is so influenced by the training data that it performs poorly in predicting future data."
   ]
  },
  {
   "cell_type": "markdown",
   "id": "bc41c480",
   "metadata": {},
   "source": [
    "---\n",
    "\n",
    "### Question 3 - Variable Selection [15 pts]"
   ]
  },
  {
   "cell_type": "markdown",
   "id": "d30af4c8",
   "metadata": {},
   "source": [
    "Sequential Feature Selection (SFS) in the equivalent of Forward or Backwards stepwise selection in scikitlearn. SFS will choose the best new feature in each iteration and add it to the model. To measure and select the best feature to add to the combination in each SFS uses the cross-validation score. You can find the full description of SFS [here](https://scikit-learn.org/stable/modules/generated/sklearn.feature_selection.SequentialFeatureSelector.html?highlight=sequential%20feature#sklearn.feature_selection.SequentialFeatureSelector)."
   ]
  },
  {
   "cell_type": "code",
   "execution_count": 33,
   "id": "881c8d39",
   "metadata": {},
   "outputs": [],
   "source": [
    "from sklearn.feature_selection import SequentialFeatureSelector"
   ]
  },
  {
   "cell_type": "markdown",
   "id": "67bd8e65",
   "metadata": {},
   "source": [
    "Let's try SFS as a Forward stepwise selection. Look a the description below for SFS and apply sfs to the boston dataset. For this question, use a linear model, pick the number of features to select, do forward sfs, use the MSE, and a cv with k=10.\n",
    "\n",
    "**SequentialFeatureSelector**\n",
    "\n",
    "- estimator - this will be a certain model. For example LinearRegression()\n",
    "- n_features_to_select - Default is `None`, which means half of the features are selected.\n",
    "- directions - `backward` or `forward`\" selection.\n",
    "- scoring - take a loook at the [metrics and scoring](https://scikit-learn.org/0.24/modules/model_evaluation.html#scoring-parameter) reference. A common metric for regression would be `neg_mean_squared_error` (negative MSE)\n",
    "- cv - cross-validation. Default=`None` will yield a 5-fold cross validation. Otherwise change this number.\n",
    "\n",
    "*Note: You do not need to split up your dataset, you are choosing the best features and SFS comes with CV*"
   ]
  },
  {
   "cell_type": "markdown",
   "id": "ca2745ab",
   "metadata": {},
   "source": [
    "**3)a)Complete and run the code below. Select four features with the SFS build a LinearRegression. Use a `k=10` for your cross validation. What is the $R^2$ of this model?**[4pts]"
   ]
  },
  {
   "cell_type": "code",
   "execution_count": 34,
   "id": "504de455",
   "metadata": {},
   "outputs": [
    {
     "name": "stdout",
     "output_type": "stream",
     "text": [
      "Features selected by forward sequential selection: Index(['max_temperature', 'precipitation', 'stations_in_service',\n",
      "       'weekday_non_holiday'],\n",
      "      dtype='object')\n"
     ]
    }
   ],
   "source": [
    "model= LinearRegression(normalize = True)\n",
    "sfs = SequentialFeatureSelector(model, \n",
    "                                n_features_to_select = 4, \n",
    "                                direction=\"forward\",\n",
    "                                scoring='neg_mean_squared_error',\n",
    "                                cv= 10) \n",
    "sfs = sfs.fit(X,y)\n",
    "feature_names= X.columns\n",
    "print(\"Features selected by forward sequential selection: \"+str(feature_names[sfs.get_support()]))"
   ]
  },
  {
   "cell_type": "code",
   "execution_count": 35,
   "id": "b01a1a9b",
   "metadata": {},
   "outputs": [
    {
     "name": "stdout",
     "output_type": "stream",
     "text": [
      "R-squared:  0.8537056645756058\n"
     ]
    }
   ],
   "source": [
    "lm = LinearRegression(normalize = True)\n",
    "lm.fit(X[feature_names[sfs.get_support()]], y) # use the selected feature to fit\n",
    "y_true = y\n",
    "y_pred = lm.predict(X[feature_names[sfs.get_support()]])\n",
    "print('R-squared: ', lm.score(X[feature_names[sfs.get_support()]],y))"
   ]
  },
  {
   "cell_type": "markdown",
   "id": "a7e9aa3e",
   "metadata": {},
   "source": [
    "**3)b) Use 3)a) and put it inside a loop, from 1 to your total number of features). Print the results (Number of features and features selected). What are the features selected when the model has 6 features?** [3pts]"
   ]
  },
  {
   "cell_type": "code",
   "execution_count": 36,
   "id": "83df44ba",
   "metadata": {},
   "outputs": [
    {
     "name": "stdout",
     "output_type": "stream",
     "text": [
      "Degree =  1\n",
      "Features selected by forward sequential selection: Index(['max_temperature'], dtype='object')\n",
      "Degree =  2\n",
      "Features selected by forward sequential selection: Index(['max_temperature', 'stations_in_service'], dtype='object')\n",
      "Degree =  3\n",
      "Features selected by forward sequential selection: Index(['max_temperature', 'stations_in_service', 'weekday_non_holiday'], dtype='object')\n",
      "Degree =  4\n",
      "Features selected by forward sequential selection: Index(['max_temperature', 'precipitation', 'stations_in_service',\n",
      "       'weekday_non_holiday'],\n",
      "      dtype='object')\n",
      "Degree =  5\n",
      "Features selected by forward sequential selection: Index(['max_temperature', 'month', 'precipitation', 'stations_in_service',\n",
      "       'weekday_non_holiday'],\n",
      "      dtype='object')\n",
      "Degree =  6\n",
      "Features selected by forward sequential selection: Index(['max_temperature', 'month', 'precipitation', 'stations_in_service',\n",
      "       'weekday_non_holiday', 'winter'],\n",
      "      dtype='object')\n",
      "Degree =  7\n",
      "Features selected by forward sequential selection: Index(['max_temperature', 'month', 'precipitation', 'spring',\n",
      "       'stations_in_service', 'weekday_non_holiday', 'winter'],\n",
      "      dtype='object')\n",
      "Degree =  8\n",
      "Features selected by forward sequential selection: Index(['max_temperature', 'month', 'precipitation', 'snow_depth', 'spring',\n",
      "       'stations_in_service', 'weekday_non_holiday', 'winter'],\n",
      "      dtype='object')\n",
      "Degree =  9\n",
      "Features selected by forward sequential selection: Index(['max_temperature', 'month', 'precipitation', 'snow_depth', 'spring',\n",
      "       'stations_in_service', 'summer', 'weekday_non_holiday', 'winter'],\n",
      "      dtype='object')\n",
      "Degree =  10\n",
      "Features selected by forward sequential selection: Index(['max_temperature', 'month', 'precipitation', 'snow_depth', 'spring',\n",
      "       'stations_in_service', 'summer', 'weekday', 'weekday_non_holiday',\n",
      "       'winter'],\n",
      "      dtype='object')\n",
      "Degree =  11\n",
      "Features selected by forward sequential selection: Index(['holiday', 'max_temperature', 'month', 'precipitation', 'snow_depth',\n",
      "       'spring', 'stations_in_service', 'summer', 'weekday',\n",
      "       'weekday_non_holiday', 'winter'],\n",
      "      dtype='object')\n",
      "Degree =  12\n",
      "Features selected by forward sequential selection: Index(['holiday', 'max_temperature', 'month', 'precipitation', 'snow_depth',\n",
      "       'snowfall', 'spring', 'stations_in_service', 'summer', 'weekday',\n",
      "       'weekday_non_holiday', 'winter'],\n",
      "      dtype='object')\n",
      "Degree =  13\n",
      "Features selected by forward sequential selection: Index(['holiday', 'max_temperature', 'min_temperature', 'month',\n",
      "       'precipitation', 'snow_depth', 'snowfall', 'spring',\n",
      "       'stations_in_service', 'summer', 'weekday', 'weekday_non_holiday',\n",
      "       'winter'],\n",
      "      dtype='object')\n"
     ]
    }
   ],
   "source": [
    "for degree in range(1, len(X.columns)):\n",
    "    model= LinearRegression(normalize = True)\n",
    "    sfs = SequentialFeatureSelector(model, \n",
    "                                    n_features_to_select = degree, \n",
    "                                    direction=\"forward\",\n",
    "                                    scoring='neg_mean_squared_error',\n",
    "                                    cv= 10) \n",
    "    sfs = sfs.fit(X,y)\n",
    "    feature_names= X.columns\n",
    "    print('Degree = ', degree)\n",
    "    print(\"Features selected by forward sequential selection: \"+str(feature_names[sfs.get_support()]))"
   ]
  },
  {
   "cell_type": "markdown",
   "id": "1393e837",
   "metadata": {},
   "source": [
    "--> When degree = 6, the features selected are 'max_temperature', 'month', 'precipitation', 'stations_in_service',\n",
    "       'weekday_non_holiday', 'winter'. "
   ]
  },
  {
   "cell_type": "markdown",
   "id": "6195a775",
   "metadata": {},
   "source": [
    "**3)c) Use your loop from 3)b) and add a [cross_val_score](https://scikit-learn.org/stable/modules/generated/sklearn.model_selection.cross_val_score.html) to the loop. For each iteration print the predictors selected and the average CV. Save all the CV errors in an array.** [4pts]"
   ]
  },
  {
   "cell_type": "code",
   "execution_count": 37,
   "id": "22fe77bb",
   "metadata": {},
   "outputs": [
    {
     "name": "stdout",
     "output_type": "stream",
     "text": [
      "Degree =  1\n",
      "Features selected by forward sequential selection: Index(['max_temperature'], dtype='object')\n",
      "-56506620.87336826\n",
      "Degree =  2\n",
      "Features selected by forward sequential selection: Index(['max_temperature', 'stations_in_service'], dtype='object')\n",
      "-42494740.33248205\n",
      "Degree =  3\n",
      "Features selected by forward sequential selection: Index(['max_temperature', 'stations_in_service', 'weekday_non_holiday'], dtype='object')\n",
      "-34318834.21694021\n",
      "Degree =  4\n",
      "Features selected by forward sequential selection: Index(['max_temperature', 'precipitation', 'stations_in_service',\n",
      "       'weekday_non_holiday'],\n",
      "      dtype='object')\n",
      "-27572693.64113604\n",
      "Degree =  5\n",
      "Features selected by forward sequential selection: Index(['max_temperature', 'month', 'precipitation', 'stations_in_service',\n",
      "       'weekday_non_holiday'],\n",
      "      dtype='object')\n",
      "-24617859.96013022\n",
      "Degree =  6\n",
      "Features selected by forward sequential selection: Index(['max_temperature', 'month', 'precipitation', 'stations_in_service',\n",
      "       'weekday_non_holiday', 'winter'],\n",
      "      dtype='object')\n",
      "-22840538.06113479\n",
      "Degree =  7\n",
      "Features selected by forward sequential selection: Index(['max_temperature', 'month', 'precipitation', 'spring',\n",
      "       'stations_in_service', 'weekday_non_holiday', 'winter'],\n",
      "      dtype='object')\n",
      "-22442814.968289174\n",
      "Degree =  8\n",
      "Features selected by forward sequential selection: Index(['max_temperature', 'month', 'precipitation', 'snow_depth', 'spring',\n",
      "       'stations_in_service', 'weekday_non_holiday', 'winter'],\n",
      "      dtype='object')\n",
      "-21823664.13020869\n",
      "Degree =  9\n",
      "Features selected by forward sequential selection: Index(['max_temperature', 'month', 'precipitation', 'snow_depth', 'spring',\n",
      "       'stations_in_service', 'summer', 'weekday_non_holiday', 'winter'],\n",
      "      dtype='object')\n",
      "-21434026.153351583\n",
      "Degree =  10\n",
      "Features selected by forward sequential selection: Index(['max_temperature', 'month', 'precipitation', 'snow_depth', 'spring',\n",
      "       'stations_in_service', 'summer', 'weekday', 'weekday_non_holiday',\n",
      "       'winter'],\n",
      "      dtype='object')\n",
      "-21174224.411621504\n",
      "Degree =  11\n",
      "Features selected by forward sequential selection: Index(['holiday', 'max_temperature', 'month', 'precipitation', 'snow_depth',\n",
      "       'spring', 'stations_in_service', 'summer', 'weekday',\n",
      "       'weekday_non_holiday', 'winter'],\n",
      "      dtype='object')\n",
      "-21174224.411621623\n",
      "Degree =  12\n",
      "Features selected by forward sequential selection: Index(['holiday', 'max_temperature', 'month', 'precipitation', 'snow_depth',\n",
      "       'snowfall', 'spring', 'stations_in_service', 'summer', 'weekday',\n",
      "       'weekday_non_holiday', 'winter'],\n",
      "      dtype='object')\n",
      "-21201398.21619847\n",
      "Degree =  13\n",
      "Features selected by forward sequential selection: Index(['holiday', 'max_temperature', 'min_temperature', 'month',\n",
      "       'precipitation', 'snow_depth', 'snowfall', 'spring',\n",
      "       'stations_in_service', 'summer', 'weekday', 'weekday_non_holiday',\n",
      "       'winter'],\n",
      "      dtype='object')\n",
      "-21266066.93793961\n"
     ]
    }
   ],
   "source": [
    "cv_errors = []\n",
    "for degree in range(1, len(X.columns)):\n",
    "    model= LinearRegression(normalize = True)\n",
    "    sfs = SequentialFeatureSelector(model, \n",
    "                                    n_features_to_select = degree, \n",
    "                                    direction=\"forward\",\n",
    "                                    scoring='neg_mean_squared_error',\n",
    "                                    cv= 10) \n",
    "    sfs = sfs.fit(X,y)\n",
    "    feature_names= X.columns\n",
    "    print('Degree = ', degree)\n",
    "    print(\"Features selected by forward sequential selection: \"+str(feature_names[sfs.get_support()]))\n",
    "    sum = 0\n",
    "    for score in cross_val_score(LinearRegression(), X[feature_names[sfs.get_support()]], y, scoring='neg_mean_squared_error', cv=10):\n",
    "        sum += score\n",
    "    print(sum/10)\n",
    "    cv_errors.append(sum/10)\n",
    "cv_errors = np.array(cv_errors)"
   ]
  },
  {
   "cell_type": "markdown",
   "id": "1564dd99",
   "metadata": {},
   "source": [
    "**3)d) Use the CV errors you collected from 3)c) and plot a graph of number of predictors vs CV error. Calculate the lowest CV error and draw a vertical line on your plot to indicate this number. What is the number of predictors that corresponds to the lowest CV error?** [4pts]"
   ]
  },
  {
   "cell_type": "code",
   "execution_count": 39,
   "id": "9cb38b2f",
   "metadata": {},
   "outputs": [
    {
     "data": {
      "text/plain": [
       "<matplotlib.lines.Line2D at 0x1e481fce580>"
      ]
     },
     "execution_count": 39,
     "metadata": {},
     "output_type": "execute_result"
    },
    {
     "data": {
      "image/png": "[encoded data removed]",
      "text/plain": [
       "<Figure size 432x288 with 1 Axes>"
      ]
     },
     "metadata": {},
     "output_type": "display_data"
    }
   ],
   "source": [
    "plt.figure()\n",
    "sns.lineplot(x = range(1, len(X.columns)), y = -cv_errors) # transform the negative mse to positive\n",
    "plt.axvline(x=np.argmax(cv_errors)+1, linewidth=2, color='r') # the argmax returns the index, so needs to add 1"
   ]
  },
  {
   "cell_type": "markdown",
   "id": "ba651034",
   "metadata": {},
   "source": [
    "--> Number of features is 10 has the lowest CV error."
   ]
  },
  {
   "cell_type": "markdown",
   "id": "50184874",
   "metadata": {},
   "source": [
    "---\n",
    "\n",
    "### Question 4 - Regularized Regression [ 12 pts]\n",
    "\n",
    "This question is very similar to what we did in Lab 2."
   ]
  },
  {
   "cell_type": "markdown",
   "id": "dc7d38dc",
   "metadata": {},
   "source": [
    "**4)a) Train a [Ridge regression](https://scikit-learn.org/stable/modules/generated/sklearn.linear_model.Ridge.html) on your dataset. Different to our Lab 2, use the `cross_val_score` (instead of the test and train MSE), and plot two graphs: coefficients vs alphas, and CV_error vs alphas. In the second graph find the lowest CV_error and draw a vertical line on the graph to indicate the alpha that corresponds to this value. What is your best alpha?**[3 pts]"
   ]
  },
  {
   "cell_type": "code",
   "execution_count": 40,
   "id": "5a3c90f2",
   "metadata": {
    "scrolled": false
   },
   "outputs": [
    {
     "data": {
      "image/png": "[encoded data removed]",
      "text/plain": [
       "<Figure size 1440x432 with 2 Axes>"
      ]
     },
     "metadata": {},
     "output_type": "display_data"
    },
    {
     "name": "stdout",
     "output_type": "stream",
     "text": [
      "0.0014481182276745346\n"
     ]
    }
   ],
   "source": [
    "model_ridge = Ridge(normalize = True)\n",
    "coeficents = []\n",
    "cv_errors = []\n",
    "alphas = np.logspace(-5, 5, 200)\n",
    "\n",
    "for a in alphas:\n",
    "    model_ridge.set_params(alpha=a)\n",
    "    model_ridge.fit(X, y)\n",
    "    coeficents.append(model_ridge.coef_)\n",
    "    \n",
    "    # calculate the mean cv_error; choose cv = 30 for convergence\n",
    "    sum = mean(cross_val_score(Ridge(normalize = True, alpha = a), X, y, scoring='neg_mean_squared_error', cv = 30))\n",
    "    cv_errors.append(sum)\n",
    "\n",
    "cv_errors = list(map(lambda x:-x, cv_errors)) # make the negative mse positive\n",
    "plt.figure(figsize=(20, 6))\n",
    "\n",
    "\n",
    "plt.subplot(121)\n",
    "ax = plt.gca()\n",
    "ax.plot(alphas, coeficents)\n",
    "ax.set_xscale('log')\n",
    "plt.xlabel('alpha')\n",
    "plt.ylabel('Coefficients')\n",
    "plt.title('Ridge Coeficients')\n",
    "plt.axis('tight')\n",
    "\n",
    "plt.subplot(122)\n",
    "ax = plt.gca()\n",
    "ax.plot(alphas, cv_errors,linestyle=\"-\", label=\"Train\")\n",
    "ax.set_xscale('log')\n",
    "plt.xlabel('alpha')\n",
    "plt.ylabel('CV Errors')\n",
    "plt.title('Ridge - Alphas and CV Errors')\n",
    "plt.axis('tight')\n",
    "plt.axvline(alphas[np.argmin(cv_errors)], linewidth=2, color='r')\n",
    "plt.text(0.01, 100000000, 'The best alpha:'+ str(alphas[np.argmax(cv_errors)]))\n",
    "plt.show()\n",
    "\n",
    "print(alphas[np.argmin(cv_errors)])\n"
   ]
  },
  {
   "cell_type": "markdown",
   "id": "1ba0f49d",
   "metadata": {},
   "source": [
    " --> The best alpha is 0.001."
   ]
  },
  {
   "cell_type": "markdown",
   "id": "40ea16e4",
   "metadata": {},
   "source": [
    "**4)b) Repeat your Ridge regression, but using RidgeCV, and print out the best alpha for this model. Is this alpha the same or close enough to the alpha calculated in 4)a)?**[3 pts]"
   ]
  },
  {
   "cell_type": "code",
   "execution_count": 14,
   "id": "71f58a38",
   "metadata": {},
   "outputs": [
    {
     "name": "stdout",
     "output_type": "stream",
     "text": [
      "0.0014481182276745346\n",
      "19527705.955126103\n"
     ]
    }
   ],
   "source": [
    "alphas = np.logspace(-5, 5, 200)\n",
    "model_ridge = RidgeCV(alphas = alphas,normalize = True, scoring='neg_mean_squared_error', cv = 30)\n",
    "model_ridge.fit(X, y)\n",
    "print(model_ridge.alpha_)\n",
    "Best_Ridge_MSE = -model_ridge.best_score_\n",
    "print(Best_Ridge_MSE )"
   ]
  },
  {
   "cell_type": "markdown",
   "id": "3d2064dd",
   "metadata": {},
   "source": [
    "--> The alpha is the same."
   ]
  },
  {
   "cell_type": "markdown",
   "id": "144a304a",
   "metadata": {},
   "source": [
    "**4)a) Train a [Lasso regression](https://scikit-learn.org/stable/modules/generated/sklearn.linear_model.Lasso.html) on your dataset. Different to our Lab 2, use the `cross_val_score` (instead of the test and train MSE), and plot two graphs: coefficients vs alphas, and CV_error vs alphas. In the second graph find the lowest CV_error and draw a vertical line on the graph to indicate the alpha that corresponds to this value. What is your best alpha?**[2 pts]"
   ]
  },
  {
   "cell_type": "code",
   "execution_count": 15,
   "id": "a112ba5e",
   "metadata": {
    "scrolled": false
   },
   "outputs": [
    {
     "data": {
      "image/png": "[encoded data removed]",
      "text/plain": [
       "<Figure size 1440x432 with 2 Axes>"
      ]
     },
     "metadata": {},
     "output_type": "display_data"
    },
    {
     "name": "stdout",
     "output_type": "stream",
     "text": [
      "1.499268432786047\n"
     ]
    }
   ],
   "source": [
    "model_lasso = Lasso(normalize = True)\n",
    "coeficents = []\n",
    "cv_errors = []\n",
    "alphas = np.logspace(-5, 5, 200)\n",
    "\n",
    "for a in alphas:\n",
    "    model_lasso.set_params(alpha=a)\n",
    "    model_lasso.fit(X, y)\n",
    "    coeficents.append(model_lasso.coef_)\n",
    "    \n",
    "    \n",
    "    # calculate the mean cv_error, choose cv = 30\n",
    "    sum = mean(cross_val_score(model_lasso, X, y, scoring='neg_mean_squared_error', cv = 30))\n",
    "    cv_errors.append(sum)\n",
    "\n",
    "cv_errors = list(map(lambda x:-x, cv_errors)) # make the negative mse positive\n",
    "plt.figure(figsize=(20, 6))\n",
    "\n",
    "plt.subplot(121)\n",
    "ax = plt.gca()\n",
    "ax.plot(alphas, coeficents)\n",
    "ax.set_xscale('log')\n",
    "plt.xlabel('alpha')\n",
    "plt.ylabel('Coefficients')\n",
    "plt.title('Lasso Coeficients')\n",
    "plt.axis('tight')\n",
    "\n",
    "plt.subplot(122)\n",
    "ax = plt.gca()\n",
    "ax.plot(alphas, cv_errors,linestyle=\"-\", label=\"Train\")\n",
    "ax.set_xscale('log')\n",
    "plt.xlabel('alpha')\n",
    "plt.ylabel('CV Errors')\n",
    "plt.title('Lasso - Alphas and CV Errors')\n",
    "plt.axis('tight')\n",
    "plt.axvline(alphas[np.argmin(cv_errors)], linewidth=2, color='r')\n",
    "plt.text(60, 100000000, 'The best alpha:'+ str(alphas[np.argmax(cv_errors)]))\n",
    "plt.show()\n",
    "\n",
    "print(alphas[np.argmin(cv_errors)])"
   ]
  },
  {
   "cell_type": "markdown",
   "id": "6005e2ab",
   "metadata": {},
   "source": [
    "--> The best alpha is 1.5."
   ]
  },
  {
   "cell_type": "markdown",
   "id": "afd0391e",
   "metadata": {},
   "source": [
    "**4)d) Repeat your Lasso regression, but using LassoCV, and print out the best alpha for this model. Is this alpha the same or close enough to the alpha calculated in 4)c)?**[2 pts]"
   ]
  },
  {
   "cell_type": "code",
   "execution_count": 16,
   "id": "5a1fdf40",
   "metadata": {
    "scrolled": true
   },
   "outputs": [
    {
     "name": "stdout",
     "output_type": "stream",
     "text": [
      "1.499268432786047\n"
     ]
    }
   ],
   "source": [
    "coeficents = []\n",
    "cv_errors = []\n",
    "alphas = np.logspace(-5, 5, 200)\n",
    "model_lasso = LassoCV(alphas = alphas, normalize = True, cv = 30)\n",
    "model_lasso.fit(X, y)\n",
    "print(model_lasso.alpha_)\n",
    "\n",
    "Best_Lasso_MSE = np.min(np.mean(model_lasso.mse_path_))"
   ]
  },
  {
   "cell_type": "markdown",
   "id": "f3e9c887",
   "metadata": {},
   "source": [
    "--> They are the same."
   ]
  },
  {
   "cell_type": "markdown",
   "id": "1d7c7fe0",
   "metadata": {},
   "source": [
    "**4)e) Print out the best results from your Lasso, Ridge and Linear regression. Which model works best with your data?** [2 pts]\n",
    "\n",
    "*Note: If you didn't save your results from all your models, go back and modify your code from the previous questions.*"
   ]
  },
  {
   "cell_type": "code",
   "execution_count": 17,
   "id": "7093b205",
   "metadata": {},
   "outputs": [
    {
     "name": "stdout",
     "output_type": "stream",
     "text": [
      "The best MSE for Lasso, Ridge, and Linear regression are 57270226.24, 19527705.96, and 21634653.48.\n"
     ]
    }
   ],
   "source": [
    "print('The best MSE for Lasso, Ridge, and Linear regression are {:.2f}, {:.2f}, and {:.2f}.'.format(Best_Lasso_MSE, Best_Ridge_MSE,linear_MSE))"
   ]
  },
  {
   "cell_type": "markdown",
   "id": "3484a95a",
   "metadata": {},
   "source": [
    "--> RidgeCV works best with the data."
   ]
  },
  {
   "cell_type": "markdown",
   "id": "e412f665",
   "metadata": {},
   "source": [
    "---\n",
    "\n",
    "### Question 5 - Classifications and Comparisons [ 10 pts]\n",
    "\n",
    "For this question we will another data set from [Kaggle](https://www.kaggle.com/prathamtripathi/drug-classification), related to Drug classification. Go ahead, download and read this dataset."
   ]
  },
  {
   "cell_type": "markdown",
   "id": "4be429c0",
   "metadata": {},
   "source": [
    "**5)a) Begin by creating a training and testing datasest from our `df_drugs` dataset, with a 70-30 ratio, and random_state=1.** [1 pts]"
   ]
  },
  {
   "cell_type": "code",
   "execution_count": 3,
   "id": "a7c61c43",
   "metadata": {},
   "outputs": [
    {
     "name": "stdout",
     "output_type": "stream",
     "text": [
      "   Age Sex      BP Cholesterol  Na_to_K   Drug\n",
      "0   23   F    HIGH        HIGH   25.355  DrugY\n",
      "1   47   M     LOW        HIGH   13.093  drugC\n",
      "2   47   M     LOW        HIGH   10.114  drugC\n",
      "3   28   F  NORMAL        HIGH    7.798  drugX\n",
      "4   61   F     LOW        HIGH   18.043  DrugY\n",
      "    Age  Na_to_K   Drug  BP_LOW  BP_NORMAL  Cholesterol_NORMAL  Sex_M\n",
      "0    23   25.355  DrugY       0          0                   0      0\n",
      "1    47   13.093  drugC       1          0                   0      1\n",
      "2    47   10.114  drugC       1          0                   0      1\n",
      "3    28    7.798  drugX       0          1                   0      0\n",
      "4    61   18.043  DrugY       1          0                   0      0\n",
      "5    22    8.607  drugX       0          1                   0      0\n",
      "6    49   16.275  DrugY       0          1                   0      0\n",
      "7    41   11.037  drugC       1          0                   0      1\n",
      "8    60   15.171  DrugY       0          1                   0      1\n",
      "9    43   19.368  DrugY       1          0                   1      1\n",
      "10   47   11.767  drugC       1          0                   0      0\n",
      "11   34   19.199  DrugY       0          0                   1      0\n",
      "12   43   15.376  DrugY       1          0                   0      1\n",
      "13   74   20.942  DrugY       1          0                   0      0\n",
      "14   50   12.703  drugX       0          1                   0      0\n",
      "15   16   15.516  DrugY       0          0                   1      0\n",
      "16   69   11.455  drugX       1          0                   1      1\n",
      "17   43   13.972  drugA       0          0                   0      1\n",
      "18   23    7.298  drugC       1          0                   0      1\n",
      "19   32   25.974  DrugY       0          0                   1      0\n",
      "20   57   19.128  DrugY       1          0                   1      1\n",
      "21   63   25.917  DrugY       0          1                   0      1\n",
      "22   47   30.568  DrugY       1          0                   1      1\n",
      "23   48   15.036  DrugY       1          0                   0      0\n",
      "24   33   33.486  DrugY       1          0                   0      0\n",
      "25   28   18.809  DrugY       0          0                   1      0\n",
      "26   31   30.366  DrugY       0          0                   0      1\n",
      "27   49    9.381  drugX       0          1                   1      0\n",
      "28   39   22.697  DrugY       1          0                   1      0\n",
      "29   45   17.951  DrugY       1          0                   0      1\n"
     ]
    }
   ],
   "source": [
    "df_drugs = pd.read_csv('drug200.csv')\n",
    "print(df_drugs.head())\n",
    "df_drugs_clean = pd.concat([df_drugs, \n",
    "                            pd.get_dummies(df_drugs['BP'], prefix = 'BP', drop_first=True), \n",
    "                            pd.get_dummies(df_drugs['Cholesterol'], prefix = 'Cholesterol',drop_first=True),\n",
    "                            pd.get_dummies(df_drugs['Sex'], prefix = 'Sex',drop_first=True)], axis = 1)\n",
    "df_drugs_clean.drop(['BP', 'Cholesterol', 'Sex'], axis = 1, inplace = True)\n",
    "print(df_drugs_clean.head(30))\n",
    "X = df_drugs_clean[df_drugs_clean.columns.difference(['Drug'])]\n",
    "y = df_drugs_clean['Drug']\n",
    "X_train, X_test, y_train, y_test = train_test_split(X, y, test_size = 0.3, random_state = 1)"
   ]
  },
  {
   "cell_type": "markdown",
   "id": "e9dbf207",
   "metadata": {},
   "source": [
    "**5)b) Train a KNN model for question 5)a), and print out its confusion matrix. How well did your model perform? Did it classify all classes the same? What was the accuracy? Include comments to explain your code.** [2 pts]"
   ]
  },
  {
   "cell_type": "code",
   "execution_count": 4,
   "id": "d49d04ee",
   "metadata": {},
   "outputs": [
    {
     "name": "stdout",
     "output_type": "stream",
     "text": [
      "Accuracy:  0.6333333333333333\n"
     ]
    },
    {
     "data": {
      "image/png": "[encoded data removed]",
      "text/plain": [
       "<Figure size 432x288 with 2 Axes>"
      ]
     },
     "metadata": {},
     "output_type": "display_data"
    }
   ],
   "source": [
    "kmodel = KNeighborsClassifier()\n",
    "kmodel.fit(X_train, y_train)\n",
    "y_pred = kmodel.predict(X_test)\n",
    "print('Accuracy: ', metrics.accuracy_score(y_test, y_pred)) # \n",
    "conf_matrix = confusion_matrix(y_test, y_pred, labels=[\"drugA\", \"drugX\", \"drugC\",\"DrugY\", \"drugB\"])\n",
    "\n",
    "disp = ConfusionMatrixDisplay(confusion_matrix=conf_matrix, display_labels=[\"drugA\", \"drugX\", \"drugC\",\"DrugY\", \"drugB\"])\n",
    "disp.plot()\n",
    "plt.show() "
   ]
  },
  {
   "cell_type": "markdown",
   "id": "c0aee0dc",
   "metadata": {},
   "source": [
    "--> An accuracy of 2/3 is just mediocre. The model works well for Y, but performs poorly on predicting X and C."
   ]
  },
  {
   "cell_type": "markdown",
   "id": "07e4d21d",
   "metadata": {},
   "source": [
    "**5)c) Use cross validation to determine what is the optimal number of neighbors for your KNN model. Plot a graph of # neighbors vs accuracy of your model. Include comments to explain your code.** [2 pts]"
   ]
  },
  {
   "cell_type": "code",
   "execution_count": 9,
   "id": "94c7488f",
   "metadata": {},
   "outputs": [
    {
     "data": {
      "image/png": "[encoded data removed]",
      "text/plain": [
       "<Figure size 432x288 with 1 Axes>"
      ]
     },
     "metadata": {},
     "output_type": "display_data"
    }
   ],
   "source": [
    "k_values = range(1,X_train.shape[0])\n",
    "accuracy_values = []\n",
    "for k in k_values:\n",
    "    kmodel = KNeighborsClassifier(n_neighbors = k)\n",
    "    accuracy_values.append(mean(cross_val_score(kmodel, X, y, scoring='accuracy', cv = 30))) # Gets the accuracy for every iteration of k\n",
    "\n",
    "plt.figure()\n",
    "plt.plot(k_values, accuracy_values)\n",
    "plt.axvline(k_values[np.argmax(accuracy_values)], linewidth=2, color='r')\n",
    "plt.text(40, 0.47, 'The optimal number of neighbors for KNN:'+ str(k_values[np.argmax(accuracy_values)]))\n",
    "plt.show()"
   ]
  },
  {
   "cell_type": "markdown",
   "id": "7d235c1d",
   "metadata": {},
   "source": [
    "**5)d) Now that you have the optimal number of neighbors, re-train your model with this information. What is the new accuracy of your model? Print out the confusion matrix of this model and another metric that will help you justify how good this model is. Include comments to explain your code.** [2 pts]"
   ]
  },
  {
   "cell_type": "code",
   "execution_count": 10,
   "id": "2f57733a",
   "metadata": {},
   "outputs": [
    {
     "name": "stdout",
     "output_type": "stream",
     "text": [
      "Accuracy:  0.7\n"
     ]
    },
    {
     "data": {
      "image/png": "[encoded data removed]",
      "text/plain": [
       "<Figure size 432x288 with 2 Axes>"
      ]
     },
     "metadata": {},
     "output_type": "display_data"
    }
   ],
   "source": [
    "kmodel = KNeighborsClassifier(n_neighbors = 25) # Set number of neighbors to 24\n",
    "kmodel.fit(X_train, y_train) # Fit the model\n",
    "y_pred = kmodel.predict(X_test) \n",
    "print('Accuracy: ', metrics.accuracy_score(y_test, y_pred)) # The accuracy is better\n",
    "conf_matrix = confusion_matrix(y_test, y_pred, labels=[\"drugA\", \"drugX\", \"drugC\",\"DrugY\", \"drugB\"])\n",
    "\n",
    "disp = ConfusionMatrixDisplay(confusion_matrix=conf_matrix, display_labels=[\"drugA\", \"drugX\", \"drugC\",\"DrugY\", \"drugB\"])\n",
    "disp.plot()\n",
    "plt.show() # False predition of X has dropped drastically."
   ]
  },
  {
   "cell_type": "markdown",
   "id": "90cbd134",
   "metadata": {},
   "source": [
    "--> The new accuracy is 0.7. False predition rate of X has dropped."
   ]
  },
  {
   "cell_type": "markdown",
   "id": "f51c1c45",
   "metadata": {},
   "source": [
    "**5)e) Train a [Naive Bayes classifier](https://scikit-learn.org/stable/modules/naive_bayes.html) for your dataset, and print out its confusion matrix. How well did your model perform? Did it classify all classes the same? What was the accuracy? Include comments to explain your code.** [2 pts]"
   ]
  },
  {
   "cell_type": "code",
   "execution_count": 22,
   "id": "9d9d2468",
   "metadata": {},
   "outputs": [
    {
     "name": "stdout",
     "output_type": "stream",
     "text": [
      "Accuracy:  0.8333333333333334\n"
     ]
    },
    {
     "data": {
      "image/png": "[encoded data removed]",
      "text/plain": [
       "<Figure size 432x288 with 2 Axes>"
      ]
     },
     "metadata": {},
     "output_type": "display_data"
    }
   ],
   "source": [
    "from sklearn.naive_bayes import GaussianNB\n",
    "model_NB = GaussianNB()\n",
    "model_NB.fit(X_train, y_train)\n",
    "y_pred = model_NB.predict(X_test)\n",
    "print('Accuracy: ', metrics.accuracy_score(y_test, y_pred)) \n",
    "conf_matrix = confusion_matrix(y_test, y_pred, labels=[\"drugA\", \"drugX\", \"drugC\",\"DrugY\", \"drugB\"])\n",
    "disp = ConfusionMatrixDisplay(confusion_matrix=conf_matrix, display_labels=[\"drugA\", \"drugX\", \"drugC\",\"DrugY\", \"drugB\"])\n",
    "disp.plot()\n",
    "plt.show() "
   ]
  },
  {
   "cell_type": "markdown",
   "id": "fd61506a",
   "metadata": {},
   "source": [
    "--> # An accuracy of 0.83 is pretty good. The model works well for A, B X and C. However, this time it makes mistakes on predicting Y. "
   ]
  },
  {
   "cell_type": "markdown",
   "id": "c60b7109",
   "metadata": {},
   "source": [
    "**5)f) What classification model performed better? Why do you think this happened? Was there a particular class that was more difficult to classify? Justify your answers.** [ 1 pts]"
   ]
  },
  {
   "cell_type": "markdown",
   "id": "4e30231a",
   "metadata": {},
   "source": [
    "--> Naive Bayes Classifier performed better. This is because NB has continuous predicted probability foe each observation. They can only perform well on either drug y or drug x. I guess there is something confusing between drug y and x. "
   ]
  },
  {
   "cell_type": "markdown",
   "id": "46b3edb5",
   "metadata": {},
   "source": [
    "---\n",
    "\n",
    "### REFERENCES\n",
    "\n",
    "**List any references you used to complete your homework. Even if they are one of the books assigned for this class. If this section is incomplete you will be deducted 50% of your final grade from this homework.**\n",
    "https://www.geeksforgeeks.org/plot-a-vertical-line-in-matplotlib/\n",
    "https://machinelearningmastery.com/how-to-configure-k-fold-cross-validation/\n",
    "\n",
    "**Note: if there are no comments to explain your code you will receive 0 in this homework**\n",
    "\n",
    "### Total Score:  --/50\n",
    "\n",
    "### END OF HOMEWORK 2"
   ]
  },
  {
   "cell_type": "code",
   "execution_count": null,
   "id": "64e527c0",
   "metadata": {},
   "outputs": [],
   "source": []
  }
 ],
 "metadata": {
  "kernelspec": {
   "display_name": "Python 3 (ipykernel)",
   "language": "python",
   "name": "python3"
  },
  "language_info": {
   "codemirror_mode": {
    "name": "ipython",
    "version": 3
   },
   "file_extension": ".py",
   "mimetype": "text/x-python",
   "name": "python",
   "nbconvert_exporter": "python",
   "pygments_lexer": "ipython3",
   "version": "3.9.7"
  }
 },
 "nbformat": 4,
 "nbformat_minor": 5
}
